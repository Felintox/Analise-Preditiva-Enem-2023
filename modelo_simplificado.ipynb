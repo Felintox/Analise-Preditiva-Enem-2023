{
 "cells": [
  {
   "cell_type": "code",
   "execution_count": null,
   "id": "f86a445f-64da-48d9-9d94-b374768466ba",
   "metadata": {},
   "outputs": [],
   "source": [
    "import pandas as pd\n",
    "import numpy as np\n",
    "import matplotlib.pyplot as plt\n",
    "import joblib\n",
    "from sklearn.compose import ColumnTransformer\n",
    "from sklearn.pipeline import Pipeline\n",
    "from sklearn.metrics import mean_absolute_error, mean_squared_error\n",
    "from sklearn.impute import SimpleImputer\n",
    "from sklearn.base import BaseEstimator, TransformerMixin\n",
    "from sklearn.preprocessing import OneHotEncoder, OrdinalEncoder\n",
    "from lightgbm import LGBMRegressor"
   ]
  },
  {
   "cell_type": "markdown",
   "id": "33f03daa-49f2-41f1-9c4c-465f097dc746",
   "metadata": {},
   "source": [
    "# Modelo Simplificado para Deploy\n",
    " Este modelo utiliza apenas **12 das mais de 30 features** disponíveis no modelo completo, selecionadas com base na **análise SHAP** que identificou as variáveis de maior impacto nas predições.\n",
    "## Justificativa da Simplificação:\n",
    " **Redução de Complexidade:**\n",
    " - **Modelo Original**: 30+ features → Pipeline complexo\n",
    " - **Modelo Simplificado**: 12 features → Deploy otimizado\n",
    " #\n",
    " **Benefícios para Deploy:**\n",
    " - **Performance aceitável**: Pequena degradação no RMSE (~2 pontos)\n",
    " - **Velocidade**: Predições mais rápidas no Streamlit\n",
    " - **Manutenibilidade**: Interface mais simples e intuitiva\n",
    " - **Robustez**: Menos dependências e transformações\n",
    " **Seleção Baseada em SHAP:**\n",
    " As 12 features foram escolhidas pela análise de importância SHAP, garantindo que os **fatores mais determinantes** (renda familiar, escolaridade, idade) sejam mantidos, preservando a capacidade preditiva essencial do modelo.\n",
    "\n",
    " **Trade-off Consciente:**\n",
    " Embora apresente performance ligeiramente inferior ao modelo completo, este modelo simplificado é **otimizado para produção**, priorizando usabilidade e eficiência no ambiente de deploy via Streamlit."
   ]
  },
  {
   "cell_type": "code",
   "execution_count": null,
   "id": "609b25b6-7007-4ef5-88c8-a2fa6f4d8f22",
   "metadata": {},
   "outputs": [
    {
     "name": "stdout",
     "output_type": "stream",
     "text": [
      "Dados de treino: (2142611, 12)\n",
      "Dados de teste: (535653, 12)\n"
     ]
    }
   ],
   "source": [
    "TOP_FEATURES_SHAP = [\n",
    "    'Q006',           # Renda familiar (maior impacto SHAP)\n",
    "    'TP_ST_CONCLUSAO', # Situação conclusão EM\n",
    "    'TP_LINGUA',      # Língua estrangeira\n",
    "    'Q024',           # Possui computador\n",
    "    'TP_FAIXA_ETARIA', # Faixa etária\n",
    "    'Q002',           # Escolaridade da mãe\n",
    "    'Q013',           # Possui freezer\n",
    "    'Q001',           # Escolaridade do pai\n",
    "    'TP_ESCOLA',      # Tipo de escola\n",
    "    'Q021',           # TV por assinatura\n",
    "    'Q003',           # Ocupação do pai\n",
    "    'Q005'            # Pessoas na residência\n",
    "]\n",
    "\n",
    "# Carregando dados\n",
    "X_train = joblib.load('data/X_train.pkl')\n",
    "X_test = joblib.load('data/X_test.pkl')\n",
    "y_train = joblib.load('data/y_train.pkl')\n",
    "y_test = joblib.load('data/y_test.pkl')\n",
    "\n",
    "# Remover features sensíveis\n",
    "features_sensiveis = ['TP_SEXO', 'TP_COR_RACA']\n",
    "X_train = X_train.drop(columns=features_sensiveis, errors='ignore')\n",
    "X_test = X_test.drop(columns=features_sensiveis, errors='ignore')\n",
    "\n",
    "# Filtrar features e combinar train + val\n",
    "X_train_simples = X_train[TOP_FEATURES_SHAP].copy()\n",
    "X_test_simples = X_test[TOP_FEATURES_SHAP].copy()\n",
    "\n",
    "# Usar apenas dados de treino\n",
    "X_train_full = X_train_simples.copy()\n",
    "y_train_full = y_train.copy()\n",
    "\n",
    "print(f\"Dados de treino: {X_train_full.shape}\")\n",
    "print(f\"Dados de teste: {X_test_simples.shape}\")"
   ]
  },
  {
   "cell_type": "code",
   "execution_count": null,
   "id": "21e03626-7382-4b58-86a1-c8f248875db9",
   "metadata": {},
   "outputs": [],
   "source": [
    "# Classes de feature engineering (iguais ao modelo original)\n",
    "class TratadorNaoSei(BaseEstimator, TransformerMixin):\n",
    "    def __init__(self):\n",
    "        pass\n",
    "    def fit(self, X, y=None):\n",
    "        return self\n",
    "    def transform(self, X, y=None):\n",
    "        X_ = X.copy()\n",
    "        if 'Q001' in X_.columns:\n",
    "            X_['Q001_naosei'] = np.where(X_['Q001'] == 'H', 1, 0)\n",
    "            X_.loc[X_['Q001'] == 'H', 'Q001'] = np.nan\n",
    "        if 'Q002' in X_.columns:\n",
    "            X_['Q002_naosei'] = np.where(X_['Q002'] == 'H', 1, 0)\n",
    "            X_.loc[X_['Q002'] == 'H', 'Q002'] = np.nan\n",
    "        if 'Q003' in X_.columns:\n",
    "            X_['Q003_naosei'] = np.where(X_['Q003'] == 'F', 1, 0)\n",
    "            X_.loc[X_['Q003'] == 'F', 'Q003'] = np.nan\n",
    "        return X_\n",
    "\n",
    "class AgrupadorCategorias(BaseEstimator, TransformerMixin):\n",
    "    def __init__(self):\n",
    "        self.mapa_grupos_idade = {\n",
    "            1: 1, 2: 1, 3: 2, 4: 2, 5: 2, 6: 2, 7: 2, 8: 2, 9: 2,\n",
    "            10: 3, 11: 3, 12: 3, 13: 3, 14: 4, 15: 4, 16: 4, 17: 4,\n",
    "            18: 5, 19: 5, 20: 5\n",
    "        }\n",
    "        self.renda_abep = {\n",
    "            \"A\": 0, \"B\": 1, \"C\": 2, \"D\": 2, \"E\": 3, \"F\": 3,\n",
    "            \"G\": 3, \"H\": 3, \"I\": 4, \"J\": 4, \"K\": 4, \"L\": 4,\n",
    "            \"M\": 4, \"N\": 5, \"O\": 5, \"P\": 5, \"Q\": 5\n",
    "        }\n",
    "\n",
    "    def fit(self, X, y=None):\n",
    "        return self\n",
    "\n",
    "    def transform(self, X, y=None):\n",
    "        X_ = X.copy()\n",
    "        if 'TP_FAIXA_ETARIA' in X_.columns:\n",
    "            X_['TP_FAIXA_ETARIA'] = X_['TP_FAIXA_ETARIA'].map(self.mapa_grupos_idade)\n",
    "        if 'Q006' in X_.columns:\n",
    "            X_['Q006'] = X_['Q006'].map(self.renda_abep)\n",
    "        return X_"
   ]
  },
  {
   "cell_type": "code",
   "execution_count": null,
   "id": "33d997b9-e1be-48e5-a56e-1a60b315e7da",
   "metadata": {},
   "outputs": [],
   "source": [
    "def criar_pipeline_simplificado(modelo):\n",
    "    col_numericas = ['Q005']\n",
    "    categorica_nominal_pequena = ['TP_ESCOLA']\n",
    "    categorica_ordinal = [col for col in TOP_FEATURES_SHAP\n",
    "                         if col not in col_numericas + categorica_nominal_pequena]\n",
    "\n",
    "    transformador_ordinal = Pipeline(steps=[\n",
    "        (\"imputer\", SimpleImputer(strategy='constant', fill_value='Desconhecido')),\n",
    "        (\"ordinal\", OrdinalEncoder(handle_unknown='use_encoded_value', unknown_value=-1))\n",
    "    ])\n",
    "    transformador_onehot = OneHotEncoder(handle_unknown='ignore', sparse_output=False)\n",
    "\n",
    "    preprocessor = ColumnTransformer(\n",
    "        transformers=[\n",
    "            (\"cat_onehot\", transformador_onehot, categorica_nominal_pequena),\n",
    "            (\"cat_ord\", transformador_ordinal, categorica_ordinal)\n",
    "        ],\n",
    "        remainder='passthrough'\n",
    "    )\n",
    "\n",
    "    pipeline_final = Pipeline([\n",
    "        (\"tratador_nao_sei\", TratadorNaoSei()),\n",
    "        (\"agrupamento\", AgrupadorCategorias()),\n",
    "        (\"preprocess\", preprocessor),\n",
    "        (\"modelo\", modelo)\n",
    "    ])\n",
    "\n",
    "    return pipeline_final"
   ]
  },
  {
   "cell_type": "code",
   "execution_count": null,
   "id": "373e5992-2bb9-44ba-91b0-5b9e674fe5b5",
   "metadata": {},
   "outputs": [],
   "source": [
    "def avaliar_modelo(y_true, y_pred):\n",
    "    mae = mean_absolute_error(y_true, y_pred)\n",
    "    mape = np.mean(np.abs((y_true - y_pred) / y_true)) * 100\n",
    "    mse = mean_squared_error(y_true, y_pred)\n",
    "    rmse = np.sqrt(mse)\n",
    "    return {\"MAE\": mae, \"MAPE (%)\": mape, \"MSE\": mse, \"RMSE\": rmse}"
   ]
  },
  {
   "cell_type": "code",
   "execution_count": null,
   "id": "d62fd6ef-ee8a-42dd-bfaa-ffeee10faf1e",
   "metadata": {},
   "outputs": [
    {
     "name": "stdout",
     "output_type": "stream",
     "text": [
      "Treinando modelo simplificado com hiperparâmetros otimizados...\n"
     ]
    },
    {
     "name": "stderr",
     "output_type": "stream",
     "text": [
      "d:\\Anaconda3\\Lib\\site-packages\\sklearn\\utils\\validation.py:2749: UserWarning: X does not have valid feature names, but LGBMRegressor was fitted with feature names\n",
      "  warnings.warn(\n"
     ]
    },
    {
     "name": "stdout",
     "output_type": "stream",
     "text": [
      "\n",
      "RESULTADO FINAL DO MODELO SIMPLIFICADO:\n",
      "  MAE: 60.9467\n",
      "  MAPE (%): inf\n",
      "  MSE: 6036.2060\n",
      "  RMSE: 77.6930\n"
     ]
    }
   ],
   "source": [
    "# Modelo com hiperparâmetros otimizados do Optuna\n",
    "modelo_otimizado = LGBMRegressor(\n",
    "    learning_rate=0.08584715614794079,\n",
    "    num_leaves=150,\n",
    "    n_estimators=853,\n",
    "    random_state=42,\n",
    "    verbose=-1\n",
    ")\n",
    "\n",
    "pipeline_deploy = criar_pipeline_simplificado(modelo_otimizado)\n",
    "\n",
    "# Treinar com dados de treino\n",
    "print(\"Treinando modelo simplificado com hiperparâmetros otimizados...\")\n",
    "pipeline_deploy.fit(X_train_full, y_train_full)\n",
    "\n",
    "# TESTE FINAL - dados nunca vistos\n",
    "y_pred_test = pipeline_deploy.predict(X_test_simples)\n",
    "metricas_test = avaliar_modelo(y_test, y_pred_test)\n",
    "\n",
    "print(f\"\\nRESULTADO FINAL DO MODELO SIMPLIFICADO:\")\n",
    "for metrica, valor in metricas_test.items():\n",
    "    print(f\"  {metrica}: {valor:.4f}\")"
   ]
  },
  {
   "cell_type": "code",
   "execution_count": null,
   "id": "3037b22b-0dc6-4de1-bc39-4775c7ca09f9",
   "metadata": {},
   "outputs": [
    {
     "name": "stdout",
     "output_type": "stream",
     "text": [
      "\n",
      "Modelo simplificado salvo como 'modelo_enem_deploy.pkl'\n"
     ]
    }
   ],
   "source": [
    "# Salvar modelo final para deploy\n",
    "joblib.dump(pipeline_deploy, 'data/modelo_enem_deploy.pkl')\n",
    "print(\"\\nModelo simplificado salvo como 'modelo_enem_deploy.pkl'\")"
   ]
  }
 ],
 "metadata": {
  "language_info": {
   "codemirror_mode": {
    "name": "ipython",
    "version": 3
   },
   "file_extension": ".py",
   "mimetype": "text/x-python",
   "name": "python",
   "nbconvert_exporter": "python",
   "pygments_lexer": "ipython3",
   "version": 3
  }
 },
 "nbformat": 4,
 "nbformat_minor": 2
}
