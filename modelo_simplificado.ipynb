{
 "cells": [
  {
   "cell_type": "code",
   "execution_count": null,
   "id": "effbf01a-1028-4e64-a665-ce4e3aac8c1c",
   "metadata": {},
   "outputs": [],
   "source": [
    "import pandas as pd\n",
    "import numpy as np\n",
    "import matplotlib.pyplot as plt\n",
    "import joblib\n",
    "from sklearn.compose import ColumnTransformer\n",
    "from sklearn.pipeline import Pipeline\n",
    "from sklearn.metrics import mean_absolute_error, mean_squared_error\n",
    "from sklearn.impute import SimpleImputer\n",
    "from sklearn.base import BaseEstimator, TransformerMixin\n",
    "from sklearn.preprocessing import OneHotEncoder, OrdinalEncoder\n",
    "from lightgbm import LGBMRegressor"
   ]
  },
  {
   "cell_type": "markdown",
   "id": "2482cb1b-b24f-4ffa-9413-7db799b218da",
   "metadata": {},
   "source": [
    "# Modelo Simplificado para Deploy\n",
    " Este modelo utiliza apenas **12 das mais de 30 features** disponíveis no modelo completo, selecionadas com base na **análise SHAP** que identificou as variáveis de maior impacto nas predições.\n",
    "## Justificativa da Simplificação:\n",
    " **Redução de Complexidade:**\n",
    " - **Modelo Original**: 30+ features\n",
    " - **Modelo Simplificado**: 12 features\n",
    "\n",
    " **Benefícios para Deploy:**\n",
    " - **Performance aceitável**: Pequena degradação no RMSE (~2 pontos)\n",
    " - **Velocidade**: Predições mais rápidas no Streamlit\n",
    "\n",
    " **Seleção Baseada em SHAP:**\n",
    " As 12 features foram escolhidas pela análise de importância SHAP, garantindo que os **fatores mais determinantes** sejam mantidos, preservando a capacidade preditiva essencial do modelo.\n",
    "\n",
    " **Trade-off:**\n",
    " Performance ligeiramente inferior ao modelo completo, mas otimizado para deploy no Streamlit com melhor eficiência e usabilidade."
   ]
  },
  {
   "cell_type": "code",
   "execution_count": null,
   "id": "d73d3be2-5a5d-4cbc-af20-4143580fe375",
   "metadata": {},
   "outputs": [
    {
     "name": "stdout",
     "output_type": "stream",
     "text": [
      "Dados de treino: (2142611, 12)\n",
      "Dados de teste: (535653, 12)\n"
     ]
    }
   ],
   "source": [
    "TOP_FEATURES_SHAP = [\n",
    "    'Q006',           # Renda familiar (maior impacto SHAP)\n",
    "    'TP_ST_CONCLUSAO', # Situação conclusão EM\n",
    "    'TP_LINGUA',      # Língua estrangeira\n",
    "    'Q024',           # Possui computador\n",
    "    'TP_FAIXA_ETARIA', # Faixa etária\n",
    "    'Q002',           # Escolaridade da mãe\n",
    "    'Q013',           # Possui freezer\n",
    "    'Q001',           # Escolaridade do pai\n",
    "    'TP_ESCOLA',      # Tipo de escola\n",
    "    'Q021',           # TV por assinatura\n",
    "    'Q003',           # Ocupação do pai\n",
    "    'Q005'            # Pessoas na residência\n",
    "]\n",
    "\n",
    "# Carregando dados\n",
    "X_train = joblib.load('data/X_train.pkl')\n",
    "X_test = joblib.load('data/X_test.pkl')\n",
    "y_train = joblib.load('data/y_train.pkl')\n",
    "y_test = joblib.load('data/y_test.pkl')\n",
    "\n",
    "# Remover features sensíveis e selecionar apenas top features SHAP\n",
    "features_sensiveis = ['TP_SEXO', 'TP_COR_RACA']\n",
    "X_train = X_train.drop(columns=features_sensiveis, errors='ignore')[TOP_FEATURES_SHAP]\n",
    "X_test = X_test.drop(columns=features_sensiveis, errors='ignore')[TOP_FEATURES_SHAP]\n",
    "\n",
    "print(f\"Dados de treino: {X_train.shape}\")\n",
    "print(f\"Dados de teste: {X_test.shape}\")"
   ]
  },
  {
   "cell_type": "code",
   "execution_count": null,
   "id": "343a68b4-f9dd-407e-867f-4cc91b271f2a",
   "metadata": {},
   "outputs": [],
   "source": [
    "# Classes de feature engineering (iguais ao modelo original)\n",
    "class TratadorNaoSei(BaseEstimator, TransformerMixin):\n",
    "    def __init__(self):\n",
    "        pass\n",
    "    def fit(self, X, y=None):\n",
    "        return self\n",
    "    def transform(self, X, y=None):\n",
    "        X_ = X.copy()\n",
    "        if 'Q001' in X_.columns:\n",
    "            X_['Q001_naosei'] = np.where(X_['Q001'] == 'H', 1, 0)\n",
    "            X_.loc[X_['Q001'] == 'H', 'Q001'] = np.nan\n",
    "        if 'Q002' in X_.columns:\n",
    "            X_['Q002_naosei'] = np.where(X_['Q002'] == 'H', 1, 0)\n",
    "            X_.loc[X_['Q002'] == 'H', 'Q002'] = np.nan\n",
    "        if 'Q003' in X_.columns:\n",
    "            X_['Q003_naosei'] = np.where(X_['Q003'] == 'F', 1, 0)\n",
    "            X_.loc[X_['Q003'] == 'F', 'Q003'] = np.nan\n",
    "        return X_"
   ]
  },
  {
   "cell_type": "code",
   "execution_count": null,
   "id": "f49d3221-bf4c-4872-a97b-72734b0d74ce",
   "metadata": {},
   "outputs": [],
   "source": [
    "def criar_pipeline_simplificado(modelo):\n",
    "    col_numericas = ['Q005']\n",
    "    categorica_nominal_pequena = ['TP_ESCOLA']\n",
    "    categorica_ordinal = [col for col in TOP_FEATURES_SHAP\n",
    "                         if col not in col_numericas + categorica_nominal_pequena]\n",
    "\n",
    "    transformador_ordinal = Pipeline(steps=[\n",
    "        (\"imputer\", SimpleImputer(strategy='constant', fill_value='Desconhecido')),\n",
    "        (\"ordinal\", OrdinalEncoder(handle_unknown='use_encoded_value', unknown_value=-1))\n",
    "    ])\n",
    "    transformador_onehot = OneHotEncoder(handle_unknown='ignore', sparse_output=False)\n",
    "\n",
    "    preprocessor = ColumnTransformer(\n",
    "        transformers=[\n",
    "            (\"cat_onehot\", transformador_onehot, categorica_nominal_pequena),\n",
    "            (\"cat_ord\", transformador_ordinal, categorica_ordinal)\n",
    "        ],\n",
    "        remainder='passthrough'\n",
    "    )\n",
    "\n",
    "    pipeline_final = Pipeline([\n",
    "        (\"tratador_nao_sei\", TratadorNaoSei()),\n",
    "        (\"preprocess\", preprocessor),\n",
    "        (\"modelo\", modelo)\n",
    "    ])\n",
    "\n",
    "    return pipeline_final"
   ]
  },
  {
   "cell_type": "code",
   "execution_count": null,
   "id": "117f72ac-aea6-45e6-8e39-135d7cf2bc2b",
   "metadata": {},
   "outputs": [],
   "source": [
    "def avaliar_modelo(y_true, y_pred):\n",
    "    mae = mean_absolute_error(y_true, y_pred)\n",
    "    mape = np.mean(np.abs((y_true - y_pred) / y_true)) * 100\n",
    "    mse = mean_squared_error(y_true, y_pred)\n",
    "    rmse = np.sqrt(mse)\n",
    "    return {\"MAE\": mae, \"MAPE (%)\": mape, \"MSE\": mse, \"RMSE\": rmse}"
   ]
  },
  {
   "cell_type": "code",
   "execution_count": null,
   "id": "e144a8d8-2f98-4bb3-b31b-a257f5585541",
   "metadata": {},
   "outputs": [
    {
     "name": "stdout",
     "output_type": "stream",
     "text": [
      "Treinando modelo simplificado com hiperparâmetros otimizados...\n"
     ]
    },
    {
     "name": "stderr",
     "output_type": "stream",
     "text": [
      "d:\\Anaconda3\\Lib\\site-packages\\sklearn\\utils\\validation.py:2749: UserWarning: X does not have valid feature names, but LGBMRegressor was fitted with feature names\n",
      "  warnings.warn(\n"
     ]
    },
    {
     "name": "stdout",
     "output_type": "stream",
     "text": [
      "\n",
      "RESULTADO FINAL DO MODELO SIMPLIFICADO:\n",
      "  MAE: 60.5988\n",
      "  MAPE (%): inf\n",
      "  MSE: 5974.7227\n",
      "  RMSE: 77.2963\n"
     ]
    }
   ],
   "source": [
    "# Modelo com hiperparâmetros otimizados do Optuna\n",
    "modelo_otimizado = LGBMRegressor(\n",
    "    learning_rate=0.08584715614794079,\n",
    "    num_leaves=150,\n",
    "    n_estimators=853,\n",
    "    random_state=42,\n",
    "    verbose=-1\n",
    ")\n",
    "\n",
    "pipeline_deploy = criar_pipeline_simplificado(modelo_otimizado)\n",
    "\n",
    "# Treinar com dados de treino\n",
    "print(\"Treinando modelo simplificado com hiperparâmetros otimizados...\")\n",
    "pipeline_deploy.fit(X_train, y_train)\n",
    "\n",
    "# TESTE FINAL - dados nunca vistos\n",
    "y_pred_test = pipeline_deploy.predict(X_test)\n",
    "metricas_test = avaliar_modelo(y_test, y_pred_test)\n",
    "\n",
    "print(f\"\\nRESULTADO FINAL DO MODELO SIMPLIFICADO:\")\n",
    "for metrica, valor in metricas_test.items():\n",
    "    print(f\"  {metrica}: {valor:.4f}\")"
   ]
  },
  {
   "cell_type": "code",
   "execution_count": null,
   "id": "d1df0961-b2ed-4f05-8492-db76a3b77446",
   "metadata": {},
   "outputs": [
    {
     "name": "stdout",
     "output_type": "stream",
     "text": [
      "\n",
      "Modelo simplificado salvo como 'modelo_enem_deploy.pkl'\n"
     ]
    }
   ],
   "source": [
    "# Salvar modelo final para deploy\n",
    "joblib.dump(pipeline_deploy, 'data/modelo_enem_deploy.pkl')\n",
    "print(\"\\nModelo simplificado salvo como 'modelo_enem_deploy.pkl'\")"
   ]
  }
 ],
 "metadata": {
  "language_info": {
   "codemirror_mode": {
    "name": "ipython",
    "version": 3
   },
   "file_extension": ".py",
   "mimetype": "text/x-python",
   "name": "python",
   "nbconvert_exporter": "python",
   "pygments_lexer": "ipython3",
   "version": 3
  }
 },
 "nbformat": 4,
 "nbformat_minor": 2
}
